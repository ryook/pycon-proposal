{
 "cells": [
  {
   "cell_type": "code",
   "execution_count": 40,
   "metadata": {},
   "outputs": [],
   "source": [
    "import csv\n",
    "from urllib.parse import urljoin\n",
    "import requests\n",
    "from bs4 import BeautifulSoup\n",
    "BASE = 'https://pycon.jp/'"
   ]
  },
  {
   "cell_type": "code",
   "execution_count": 41,
   "metadata": {},
   "outputs": [],
   "source": [
    "html = requests.get('https://pycon.jp/2017/ja/speaker/list')\n",
    "soup = BeautifulSoup(html.text)\n",
    "\n",
    "speakers = []\n",
    "for div in soup.select('.speaker'):\n",
    "    speakers.append(urljoin(BASE, div.find('a').get('href')) )"
   ]
  },
  {
   "cell_type": "code",
   "execution_count": 46,
   "metadata": {},
   "outputs": [],
   "source": [
    "html = requests.get('https://pycon.jp/2017/ja/proposals/vote_list/')\n",
    "soup = BeautifulSoup(html.text)\n",
    "\n",
    "\n",
    "with open('data.csv', 'w') as f:\n",
    "    writer = csv.writer(f)\n",
    "\n",
    "    for div in soup.select('.talk'):\n",
    "        link = div.find('a')\n",
    "        url = urljoin(BASE, link.get('href')) \n",
    "        title = link.text\n",
    "        html = requests.get(url)\n",
    "        soup = BeautifulSoup(html.text)\n",
    "        body = ' '.join([d.text.replace('\\n', '') for d in soup.select('.description')])\n",
    "\n",
    "        if url in speakers:\n",
    "            speaker_flg = True\n",
    "        else:\n",
    "            speaker_flg = False \n",
    "            \n",
    "        writer.writerow(['2017', url, title, body, speaker_flg])"
   ]
  },
  {
   "cell_type": "code",
   "execution_count": null,
   "metadata": {},
   "outputs": [],
   "source": []
  }
 ],
 "metadata": {
  "kernelspec": {
   "display_name": "Python 3",
   "language": "python",
   "name": "python3"
  },
  "language_info": {
   "codemirror_mode": {
    "name": "ipython",
    "version": 3
   },
   "file_extension": ".py",
   "mimetype": "text/x-python",
   "name": "python",
   "nbconvert_exporter": "python",
   "pygments_lexer": "ipython3",
   "version": "3.6.1"
  }
 },
 "nbformat": 4,
 "nbformat_minor": 2
}
